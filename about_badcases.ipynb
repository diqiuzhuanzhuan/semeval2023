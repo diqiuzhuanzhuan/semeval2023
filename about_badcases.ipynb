{
 "cells": [
  {
   "cell_type": "code",
   "execution_count": 2,
   "metadata": {},
   "outputs": [],
   "source": [
    "from task4.data_man import badcases, meta_data\n",
    "from task4.configuration import config\n",
    "from task4.configuration.config import logging"
   ]
  },
  {
   "cell_type": "code",
   "execution_count": null,
   "metadata": {},
   "outputs": [],
   "source": [
    "pred_file = config.badcases_data_path/\"val_f1=0.481.tsv\"\n",
    "label_file = config.validate_file['labels']\n",
    "stat_map = badcases.analyze_badcase(pred_file=pred_file, label_file=label_file)"
   ]
  },
  {
   "cell_type": "code",
   "execution_count": null,
   "metadata": {},
   "outputs": [],
   "source": [
    "import pandas as pd\n",
    "validation_data = pd.read_csv(config.validate_file['arguments'], delimiter='\\t', header=0)\n",
    "validation_label = pd.read_csv(config.validate_file['labels'], delimiter='\\t', header=0)\n",
    "if not config.badcases_data_path.exists():\n",
    "    config.badcases_data_path.mkdir()\n",
    "ofs = [open(config.badcases_data_path/(col_name.replace(':', '')+\".tsv\"), 'w', encoding='utf-8') for col_name in meta_data.LABEL_NAME]\n",
    "headers = list(validation_data) + ['label']\n",
    "[f.write('\\t'.join(headers) + \"\\n\") for f in ofs]\n",
    "for index, row in validation_data.iterrows():\n",
    "    argument_id = row['Argument ID']\n",
    "    for j, col_name in enumerate(meta_data.LABEL_NAME):\n",
    "        if argument_id in stat_map[col_name]:\n",
    "            ofs[j].write(\"\\t\".join(validation_data.iloc[index].to_list() + [str(validation_label.iloc[index][col_name])]))\n",
    "            ofs[j].write(\"\\n\")\n",
    "[f.close() for f in ofs]\n",
    "print(\"done...\")"
   ]
  },
  {
   "cell_type": "code",
   "execution_count": 3,
   "metadata": {},
   "outputs": [
    {
     "name": "stdout",
     "output_type": "stream",
     "text": [
      "0.18320044502132393 Self-direction: thought\n",
      "0.2586686445392175 Self-direction: action\n",
      "0.04580011125533098 Stimulation\n",
      "0.031893194882254776 Hedonism\n",
      "0.2803634340812164 Achievement\n",
      "0.11310958650101983 Power: dominance\n",
      "0.11589096977563508 Power: resources\n",
      "0.07083256072686817 Face\n",
      "0.37085110328203225 Security: personal\n",
      "0.3204153532356759 Security: societal\n",
      "0.10532171333209717 Tradition\n",
      "0.218245874281476 Conformity: rules\n",
      "0.03838308918969034 Conformity: interpersonal\n",
      "0.07324309289820137 Humility\n",
      "0.2469868347858335 Benevolence: caring\n",
      "0.149452994622659 Benevolence: dependability\n",
      "0.3858705729649546 Universalism: concern\n",
      "0.07917671055071389 Universalism: nature\n",
      "0.12312256628963471 Universalism: tolerance\n",
      "0.195438531429631 Universalism: objectivity\n"
     ]
    }
   ],
   "source": [
    "for ratio, label in zip(config.label_ratio, config.LABEL_NAME):\n",
    "    print(ratio, label)"
   ]
  },
  {
   "cell_type": "code",
   "execution_count": null,
   "metadata": {},
   "outputs": [],
   "source": []
  }
 ],
 "metadata": {
  "kernelspec": {
   "display_name": "Python semeval2023",
   "language": "python",
   "name": "semeval2023"
  },
  "language_info": {
   "codemirror_mode": {
    "name": "ipython",
    "version": 3
   },
   "file_extension": ".py",
   "mimetype": "text/x-python",
   "name": "python",
   "nbconvert_exporter": "python",
   "pygments_lexer": "ipython3",
   "version": "3.9.15 (main, Nov 24 2022, 14:39:17) [MSC v.1916 64 bit (AMD64)]"
  },
  "orig_nbformat": 4,
  "vscode": {
   "interpreter": {
    "hash": "0aabd0f4680e6d910ea2edc0dd61e8c46bc5e7a1cbed81d898c12970ea0b6e4b"
   }
  }
 },
 "nbformat": 4,
 "nbformat_minor": 2
}
