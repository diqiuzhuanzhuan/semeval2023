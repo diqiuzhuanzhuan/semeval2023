{
 "cells": [
  {
   "cell_type": "code",
   "execution_count": null,
   "metadata": {},
   "outputs": [],
   "source": [
    "from task4.data_man import badcases, meta_data\n",
    "from task4.configuration import config\n",
    "from task4.configuration.config import logging"
   ]
  },
  {
   "cell_type": "code",
   "execution_count": null,
   "metadata": {},
   "outputs": [],
   "source": [
    "pred_file = \"task4/val_f1=0.481.tsv\"\n",
    "label_file = config.validate_file['labels']\n",
    "stat_map = badcases.analyze_badcase(pred_file=pred_file, label_file=label_file)"
   ]
  },
  {
   "cell_type": "code",
   "execution_count": null,
   "metadata": {},
   "outputs": [],
   "source": [
    "import pandas as pd\n",
    "validation_data = pd.read_csv(config.validate_file['arguments'], delimiter='\\t', header=0)\n",
    "validation_label = pd.read_csv(config.validate_file['labels'], delimiter='\\t', header=0)\n",
    "if not config.badcases_data_path.exists():\n",
    "    config.badcases_data_path.mkdir()\n",
    "ofs = [open(config.badcases_data_path/(col_name.replace(':', '')+\".tsv\"), 'w', encoding='utf-8') for col_name in meta_data.LABEL_NAME]\n",
    "headers = list(validation_data) + ['label']\n",
    "[f.write('\\t'.join(headers) + \"\\n\") for f in ofs]\n",
    "for index, row in validation_data.iterrows():\n",
    "    argument_id = row['Argument ID']\n",
    "    for j, col_name in enumerate(meta_data.LABEL_NAME):\n",
    "        if argument_id in stat_map[col_name]:\n",
    "            ofs[j].write(\"\\t\".join(validation_data.iloc[index].to_list() + [str(validation_label.iloc[index][col_name])]))\n",
    "[f.close() for f in ofs]\n",
    "print(\"done...\")"
   ]
  }
 ],
 "metadata": {
  "kernelspec": {
   "display_name": "Python semeval2023",
   "language": "python",
   "name": "semeval2023"
  },
  "language_info": {
   "codemirror_mode": {
    "name": "ipython",
    "version": 3
   },
   "file_extension": ".py",
   "mimetype": "text/x-python",
   "name": "python",
   "nbconvert_exporter": "python",
   "pygments_lexer": "ipython3",
   "version": "3.9.15 (main, Nov 24 2022, 14:39:17) [MSC v.1916 64 bit (AMD64)]"
  },
  "orig_nbformat": 4,
  "vscode": {
   "interpreter": {
    "hash": "0aabd0f4680e6d910ea2edc0dd61e8c46bc5e7a1cbed81d898c12970ea0b6e4b"
   }
  }
 },
 "nbformat": 4,
 "nbformat_minor": 2
}
